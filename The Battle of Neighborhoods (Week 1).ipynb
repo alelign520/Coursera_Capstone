{
 "cells": [
  {
   "cell_type": "markdown",
   "metadata": {},
   "source": [
    "# Peer-graded Assignment: Capstone Project - The Battle of Neighborhoods (Week 1)"
   ]
  },
  {
   "cell_type": "markdown",
   "metadata": {},
   "source": [
    " ## Introduction: Business Problem\n"
   ]
  },
  {
   "cell_type": "markdown",
   "metadata": {},
   "source": [
    "In this project I am going to show different types of crimes and collisions which have been occurring  in Seattle for  the last several years and map those crimes and collisions by neighborhoods. The project is also designed to identify the safest place to live in Seattle from different types of crimes. In this project I also tried to see the distribution of crimes and car collisions spatially across different neighborhoods in Seattle. I also tried to show the most important venues across each neighborhood in Seattle using the foursquare api. This report  targeted stakeholders interested in looking for a safe place in Seattle either to open a business or to find a house to live or to buy."
   ]
  },
  {
   "cell_type": "markdown",
   "metadata": {},
   "source": [
    "#                             Data"
   ]
  },
  {
   "cell_type": "markdown",
   "metadata": {},
   "source": [
    "In order to accomplish this project I will use  the crime data from the Seattle police department, the collision data from Seattle department of transportation. I will also use the counties and neighborhood data from the Seattle gov.org site and the different venues using the foursquare api. \n",
    "Using the foursquare and geopy data to map top 10 venues for all Seattle neighborhoods and clustered it in groups.\n",
    "Using the foursquare and geopy data to map the location of crimes and collisions in Seattle neighborhoods.\n",
    "Using the foursquare and geopy data to map the location of rental places, in some form, linked to the subway locations.\n"
   ]
  },
  {
   "cell_type": "markdown",
   "metadata": {},
   "source": [
    "# Methodology"
   ]
  },
  {
   "cell_type": "markdown",
   "metadata": {},
   "source": [
    "In this report I have used different types of data science methodologies in order to finish my project. First I collected the crime, collision and Seattle neighborhood data from different sites in csv format. After collecting the data I have used different data cleaning techniques to clean the data and bring it in the format which is ready for  further analysis using different data science tools.\n",
    "I have used barcharts to show the distribution of crimes and collisions in different time periods like year, month, day and hour of the day. I also use follium to map the crime data across neighborhoods and k-means clustering to segment the neighborhoods based on different venues.\n"
   ]
  },
  {
   "cell_type": "code",
   "execution_count": null,
   "metadata": {},
   "outputs": [],
   "source": []
  }
 ],
 "metadata": {
  "kernelspec": {
   "display_name": "Python 3",
   "language": "python",
   "name": "python3"
  },
  "language_info": {
   "codemirror_mode": {
    "name": "ipython",
    "version": 3
   },
   "file_extension": ".py",
   "mimetype": "text/x-python",
   "name": "python",
   "nbconvert_exporter": "python",
   "pygments_lexer": "ipython3",
   "version": "3.7.6"
  }
 },
 "nbformat": 4,
 "nbformat_minor": 4
}
